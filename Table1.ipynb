{
 "cells": [
  {
   "cell_type": "code",
   "execution_count": 1,
   "id": "7271c4b9-ceae-4e1c-8c98-56e085937993",
   "metadata": {},
   "outputs": [],
   "source": [
    "import numpy as np\n",
    "import matplotlib.pyplot as plt\n",
    "import seaborn as sns\n",
    "import pandas as pd\n",
    "import scipy\n",
    "from matplotlib import cm\n",
    "\n",
    "from graspologic.embed import AdjacencySpectralEmbed, select_dimension\n",
    "from graspologic.align import SeedlessProcrustes, SignFlips\n",
    "from graspologic.plot import heatmap\n",
    "from hyppo.ksample import KSample\n",
    "from tqdm import tqdm\n",
    "\n",
    "from utils import load_data\n",
    "\n",
    "%matplotlib inline"
   ]
  },
  {
   "cell_type": "code",
   "execution_count": 2,
   "id": "41a7f127-1448-4572-8b00-6a161b0fc131",
   "metadata": {},
   "outputs": [],
   "source": [
    "A_l, nodes_l, A_r, nodes_r, hemispheres = load_data()"
   ]
  },
  {
   "cell_type": "code",
   "execution_count": 3,
   "id": "6b0317d7-5c0e-46ac-9455-513f4ae8511b",
   "metadata": {},
   "outputs": [
    {
     "name": "stderr",
     "output_type": "stream",
     "text": [
      "100%|█████████████████████████████████████████████████████| 5/5 [04:05<00:00, 49.13s/it]\n"
     ]
    }
   ],
   "source": [
    "test_args = dict(\n",
    "    reps = 5000,\n",
    "    workers = -1,\n",
    "    auto = False,\n",
    ")\n",
    "\n",
    "pvalues = []\n",
    "\n",
    "for n_components in tqdm(range(1, 6)):\n",
    "    ase = AdjacencySpectralEmbed(n_components=n_components, algorithm='full', diag_aug=True, check_lcc=False)\n",
    "    X1_hat = ase.fit_transform(A_l)\n",
    "    X2_hat = ase.fit_transform(A_r)\n",
    "\n",
    "    X1_opt = SeedlessProcrustes().fit_transform(X1_hat, X2_hat)\n",
    "    X1_median = SignFlips(criterion=\"median\").fit_transform(X1_hat, X2_hat)\n",
    "    \n",
    "    dcorr_median = KSample(\"Dcorr\").test(X1_median, X2_hat, **test_args)\n",
    "    dcorr_opt = KSample(\"Dcorr\").test(X1_opt, X2_hat, **test_args)\n",
    "    \n",
    "    mgc_median = KSample(\"MGC\").test(X1_median, X2_hat, **test_args)\n",
    "    mgc_opt = KSample(\"MGC\").test(X1_opt, X2_hat, **test_args)\n",
    "    \n",
    "    pvalues.append([n_components, mgc_opt[1], dcorr_opt[1], mgc_median[1], dcorr_median[1]])"
   ]
  },
  {
   "cell_type": "code",
   "execution_count": 4,
   "id": "2e918ab4-6ab3-4601-b6d6-8675082a9567",
   "metadata": {},
   "outputs": [],
   "source": [
    "df = pd.DataFrame(pvalues, columns = ['n_components', 'MGC+OPT', 'DCorr+OPT', 'MGC+Median', 'DCorr+Median'])"
   ]
  },
  {
   "cell_type": "code",
   "execution_count": 5,
   "id": "df7f9912-c8c7-408f-bd5a-29ddcf33c8e6",
   "metadata": {},
   "outputs": [
    {
     "name": "stdout",
     "output_type": "stream",
     "text": [
      "\\begin{tabular}{lrrrrr}\n",
      "\\toprule\n",
      "{} &       0 &       1 &       2 &       3 &       4 \\\\\n",
      "\\midrule\n",
      "n\\_components &  1.0000 &  2.0000 &  3.0000 &  4.0000 &  5.0000 \\\\\n",
      "MGC+OPT      &  0.9900 &  1.0000 &  0.9976 &  0.9992 &  0.9534 \\\\\n",
      "DCorr+OPT    &  0.9864 &  1.0000 &  0.9970 &  0.9982 &  0.9600 \\\\\n",
      "MGC+Median   &  0.9888 &  1.0000 &  0.0002 &  0.0002 &  0.0002 \\\\\n",
      "DCorr+Median &  0.9894 &  0.9996 &  0.0044 &  0.0090 &  0.0256 \\\\\n",
      "\\bottomrule\n",
      "\\end{tabular}\n",
      "\n"
     ]
    }
   ],
   "source": [
    "print(df.T.to_latex())"
   ]
  },
  {
   "cell_type": "code",
   "execution_count": 6,
   "id": "490461f4-0f99-4098-a7d4-97a1b983a8eb",
   "metadata": {},
   "outputs": [],
   "source": [
    "df.to_csv(\"results/table1.csv\", index=False)"
   ]
  }
 ],
 "metadata": {
  "kernelspec": {
   "display_name": "Python 3 (ipykernel)",
   "language": "python",
   "name": "python3"
  },
  "language_info": {
   "codemirror_mode": {
    "name": "ipython",
    "version": 3
   },
   "file_extension": ".py",
   "mimetype": "text/x-python",
   "name": "python",
   "nbconvert_exporter": "python",
   "pygments_lexer": "ipython3",
   "version": "3.7.11"
  }
 },
 "nbformat": 4,
 "nbformat_minor": 5
}
